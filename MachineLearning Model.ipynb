{
 "cells": [
  {
   "cell_type": "markdown",
   "metadata": {},
   "source": [
    "## ML監督學習 - 房價預測（迴歸）"
   ]
  },
  {
   "cell_type": "markdown",
   "metadata": {},
   "source": [
    "### import相關套件"
   ]
  },
  {
   "cell_type": "code",
   "execution_count": 19,
   "metadata": {},
   "outputs": [],
   "source": [
    "import numpy as np\n",
    "import pandas as pd\n",
    "from sklearn.model_selection import train_test_split\n",
    "from sklearn.linear_model import LinearRegression\n",
    "from sklearn.metrics import mean_squared_error, mean_absolute_error, r2_score\n",
    "from sklearn.ensemble import RandomForestRegressor\n",
    "from sklearn.preprocessing import StandardScaler"
   ]
  },
  {
   "cell_type": "markdown",
   "metadata": {},
   "source": [
    "### 房價資料集載入"
   ]
  },
  {
   "cell_type": "code",
   "execution_count": 20,
   "metadata": {},
   "outputs": [
    {
     "name": "stdout",
     "output_type": "stream",
     "text": [
      "   longitude  latitude  housing_median_age  total_rooms  total_bedrooms  \\\n",
      "0    -114.31     34.19                15.0       5612.0          1283.0   \n",
      "1    -114.47     34.40                19.0       7650.0          1901.0   \n",
      "2    -114.56     33.69                17.0        720.0           174.0   \n",
      "3    -114.57     33.64                14.0       1501.0           337.0   \n",
      "4    -114.57     33.57                20.0       1454.0           326.0   \n",
      "\n",
      "   population  households  median_income  median_house_value  \n",
      "0      1015.0       472.0         1.4936             66900.0  \n",
      "1      1129.0       463.0         1.8200             80100.0  \n",
      "2       333.0       117.0         1.6509             85700.0  \n",
      "3       515.0       226.0         3.1917             73400.0  \n",
      "4       624.0       262.0         1.9250             65500.0  \n",
      "   longitude  latitude  housing_median_age  total_rooms  total_bedrooms  \\\n",
      "0    -122.05     37.37                27.0       3885.0           661.0   \n",
      "1    -118.30     34.26                43.0       1510.0           310.0   \n",
      "2    -117.81     33.78                27.0       3589.0           507.0   \n",
      "3    -118.36     33.82                28.0         67.0            15.0   \n",
      "4    -119.67     36.33                19.0       1241.0           244.0   \n",
      "\n",
      "   population  households  median_income  median_house_value  \n",
      "0      1537.0       606.0         6.6085            344700.0  \n",
      "1       809.0       277.0         3.5990            176500.0  \n",
      "2      1484.0       495.0         5.7934            270500.0  \n",
      "3        49.0        11.0         6.1359            330000.0  \n",
      "4       850.0       237.0         2.9375             81700.0  \n"
     ]
    }
   ],
   "source": [
    "\n",
    "# 載入 california 房價資料集\n",
    "train_data = pd.read_csv('dataset/california_housing_train.csv')\n",
    "test_data = pd.read_csv('dataset/california_housing_test.csv')\n",
    "\n",
    "# 查看dataset資訊 確保資料正確讀取\n",
    "print(train_data.head())\n",
    "print(test_data.head())\n"
   ]
  },
  {
   "cell_type": "markdown",
   "metadata": {},
   "source": [
    "### 資料前處理"
   ]
  },
  {
   "cell_type": "code",
   "execution_count": 21,
   "metadata": {},
   "outputs": [],
   "source": [
    "# 處理缺失值\n",
    "data = train_data.dropna()\n",
    "data = test_data.dropna()\n",
    "\n",
    "\n",
    "# 分離特徵（X）和目標變量（y）\n",
    "X_train = train_data.drop('median_house_value', axis=1)\n",
    "y_train = train_data['median_house_value']\n",
    "\n",
    "X_test = test_data.drop('median_house_value', axis=1)\n",
    "y_test = test_data['median_house_value']\n",
    "\n",
    "# 創造新的特徵\n",
    "# rooms_per_household: 每戶房間數\n",
    "# bedrooms_per_room: 每房間臥室數\n",
    "# population_per_household: 每戶人口數\n",
    "X_train['rooms_per_household'] = X_train['total_rooms'] / X_train['households']\n",
    "X_train['bedrooms_per_room'] = X_train['total_bedrooms'] / X_train['total_rooms']\n",
    "X_train['population_per_household'] = X_train['population'] / X_train['households']\n",
    "\n",
    "X_test['rooms_per_household'] = X_test['total_rooms'] / X_test['households']\n",
    "X_test['bedrooms_per_room'] = X_test['total_bedrooms'] / X_test['total_rooms']\n",
    "X_test['population_per_household'] = X_test['population'] / X_test['households']\n",
    "\n",
    "\n",
    "# 標準化資料\n",
    "scaler = StandardScaler()\n",
    "X_train_scaled = scaler.fit_transform(X_train)\n",
    "X_test_scaled = scaler.transform(X_test)"
   ]
  },
  {
   "cell_type": "markdown",
   "metadata": {},
   "source": [
    "### 模型的建立與評估(隨機森林)"
   ]
  },
  {
   "cell_type": "markdown",
   "metadata": {},
   "source": [
    "MSE 越低越好  \n",
    "MAE 越低越好  \n",
    "R-Squared, R² 越接近1越好\n"
   ]
  },
  {
   "cell_type": "code",
   "execution_count": 22,
   "metadata": {},
   "outputs": [
    {
     "name": "stdout",
     "output_type": "stream",
     "text": [
      "Random Forest Mean Squared Error: 2600842349.887111\n",
      "Random Forest Mean Absolute Error: 32827.73381666667\n",
      "Random Forest R^2 Score: 0.7966789124539675\n"
     ]
    }
   ],
   "source": [
    "\n",
    "# 建立隨機森林回歸模型\n",
    "model_rf = RandomForestRegressor(n_estimators=100, random_state=42)\n",
    "model_rf.fit(X_train_scaled, y_train)\n",
    "\n",
    "# 預測和評估\n",
    "y_pred_rf = model_rf.predict(X_test_scaled)\n",
    "mse_rf = mean_squared_error(y_test, y_pred_rf)\n",
    "mae_rf = mean_absolute_error(y_test, y_pred_rf)\n",
    "r2_rf = r2_score(y_test, y_pred_rf)\n",
    "# 在迴歸問題中, 常用的評估是均方誤差（MSE）、平均絕對誤差（MAE）和決定係數（R²）\n",
    "print(f'Random Forest Mean Squared Error: {mse_rf}')\n",
    "print(f'Random Forest Mean Absolute Error: {mae_rf}')\n",
    "print(f'Random Forest R^2 Score: {r2_rf}')"
   ]
  },
  {
   "cell_type": "markdown",
   "metadata": {},
   "source": [
    "### 模型的建立與評估(線性回歸)"
   ]
  },
  {
   "cell_type": "code",
   "execution_count": 23,
   "metadata": {},
   "outputs": [
    {
     "name": "stdout",
     "output_type": "stream",
     "text": [
      "Linear Regression Mean Squared Error: 4745655369.276094\n",
      "Linear Regression Mean Absolute Error: 49503.574244060896\n",
      "Linear Regression R^2 Score: 0.6290079593475687\n"
     ]
    }
   ],
   "source": [
    "\n",
    "# 建立線性迴歸模型\n",
    "model_lr = LinearRegression()\n",
    "model_lr.fit(X_train_scaled, y_train)\n",
    "\n",
    "# 預測和評估\n",
    "y_pred_lr = model_lr.predict(X_test_scaled)\n",
    "mse_lr = mean_squared_error(y_test, y_pred_lr)\n",
    "mae_lr = mean_absolute_error(y_test, y_pred_lr)\n",
    "r2_lr = r2_score(y_test, y_pred_lr)\n",
    "rmse_lr = np.sqrt(mse_lr)\n",
    "\n",
    "print(f'Linear Regression Mean Squared Error: {mse_lr}')\n",
    "print(f'Linear Regression Mean Absolute Error: {mae_lr}')\n",
    "print(f'Linear Regression R^2 Score: {r2_lr}')"
   ]
  },
  {
   "cell_type": "code",
   "execution_count": null,
   "metadata": {},
   "outputs": [],
   "source": []
  },
  {
   "cell_type": "markdown",
   "metadata": {},
   "source": [
    "## ML監督學習 - 垃圾郵件分類（分類器）"
   ]
  },
  {
   "cell_type": "markdown",
   "metadata": {},
   "source": [
    "### 載入套件"
   ]
  },
  {
   "cell_type": "code",
   "execution_count": 15,
   "metadata": {},
   "outputs": [],
   "source": [
    "import pandas as pd\n",
    "from sklearn.feature_extraction.text import CountVectorizer\n",
    "from sklearn.model_selection import train_test_split\n",
    "from sklearn.naive_bayes import MultinomialNB\n",
    "from sklearn.metrics import accuracy_score, precision_score, recall_score, f1_score, confusion_matrix\n"
   ]
  },
  {
   "cell_type": "markdown",
   "metadata": {},
   "source": [
    "### 資料集前處理"
   ]
  },
  {
   "cell_type": "code",
   "execution_count": 27,
   "metadata": {},
   "outputs": [
    {
     "name": "stdout",
     "output_type": "stream",
     "text": [
      "   label                                            message\n",
      "0      0  Go until jurong point, crazy.. Available only ...\n",
      "1      0                      Ok lar... Joking wif u oni...\n",
      "2      1  Free entry in 2 a wkly comp to win FA Cup fina...\n",
      "3      0  U dun say so early hor... U c already then say...\n",
      "4      0  Nah I don't think he goes to usf, he lives aro...\n"
     ]
    }
   ],
   "source": [
    "\n",
    "# 加載數據\n",
    "data = pd.read_csv('dataset/ml_sms.tsv', sep='\\t', header=None)\n",
    "data.columns = ['label', 'message']\n",
    "\n",
    "# 將標籤轉換為數值\n",
    "data['label'] = data['label'].map({'ham': 0, 'spam': 1})\n",
    "\n",
    "# 切分訓練集和測試集\n",
    "X_train, X_test, y_train, y_test = train_test_split(data['message'], data['label'], test_size=0.2, random_state=42)\n",
    "\n",
    "print(data.head())"
   ]
  },
  {
   "cell_type": "markdown",
   "metadata": {},
   "source": [
    "### 轉換文本資料特徵"
   ]
  },
  {
   "cell_type": "markdown",
   "metadata": {},
   "source": [
    "轉換文字特徵為數值向量的過程涉及到  \n",
    "將非結構化的文本資料轉換為模型可以理解的數值格式  \n",
    "這通常稱為\"特徵提取\"或\"向量化\"\n",
    "使用套件 CountVectorizer 是一種常用的方法  \n",
    "原理是將文本數據轉換為詞袋（Bag-of-Words）表示形式"
   ]
  },
  {
   "cell_type": "code",
   "execution_count": 28,
   "metadata": {},
   "outputs": [
    {
     "name": "stdout",
     "output_type": "stream",
     "text": [
      "  (0, 5688)\t1\n",
      "  (0, 6889)\t3\n",
      "  (0, 7475)\t1\n",
      "  (0, 258)\t1\n",
      "  (0, 7397)\t1\n",
      "  (0, 7438)\t1\n",
      "  (0, 7472)\t1\n",
      "  (0, 6774)\t1\n",
      "  (0, 354)\t1\n",
      "  (0, 2806)\t1\n",
      "  (0, 7556)\t1\n",
      "  (0, 2107)\t1\n",
      "  (0, 1272)\t1\n",
      "  (0, 3365)\t1\n",
      "  (0, 5981)\t1\n",
      "  (0, 6461)\t1\n",
      "  (0, 695)\t1\n",
      "  (0, 2569)\t1\n",
      "  (0, 6000)\t1\n",
      "  (1, 7472)\t1\n",
      "  (1, 3370)\t1\n",
      "  (1, 6305)\t1\n",
      "  (1, 4855)\t1\n",
      "  (1, 4977)\t1\n",
      "  (1, 3604)\t1\n",
      "  :\t:\n",
      "  (4452, 7536)\t1\n",
      "  (4452, 2503)\t1\n",
      "  (4452, 7520)\t1\n",
      "  (4453, 1607)\t1\n",
      "  (4453, 6304)\t1\n",
      "  (4453, 4130)\t1\n",
      "  (4453, 3998)\t1\n",
      "  (4454, 2985)\t1\n",
      "  (4454, 3352)\t1\n",
      "  (4454, 5585)\t1\n",
      "  (4454, 5322)\t1\n",
      "  (4454, 6310)\t1\n",
      "  (4454, 6309)\t1\n",
      "  (4455, 6905)\t1\n",
      "  (4455, 4813)\t1\n",
      "  (4455, 3813)\t1\n",
      "  (4455, 5997)\t1\n",
      "  (4456, 3713)\t1\n",
      "  (4456, 3842)\t1\n",
      "  (4456, 2295)\t1\n",
      "  (4456, 3340)\t1\n",
      "  (4456, 5896)\t1\n",
      "  (4456, 6667)\t1\n",
      "  (4456, 6269)\t1\n",
      "  (4456, 4661)\t1\n"
     ]
    }
   ],
   "source": [
    "# 特徵提取（文本轉換為數值向量）\n",
    "vectorizer = CountVectorizer()\n",
    "X_train_vec = vectorizer.fit_transform(X_train)\n",
    "X_test_vec = vectorizer.transform(X_test)# 測試中如果包含訓練中未出現的詞彙 這些詞彙將被忽略 不會影響轉換結果\n",
    "print(X_train_vec)"
   ]
  },
  {
   "cell_type": "markdown",
   "metadata": {},
   "source": [
    "### Naive Bayes classifier"
   ]
  },
  {
   "cell_type": "code",
   "execution_count": 30,
   "metadata": {},
   "outputs": [
    {
     "name": "stdout",
     "output_type": "stream",
     "text": [
      "Accuracy: 0.9919282511210762\n",
      "Precision: 1.0\n",
      "Recall: 0.9395973154362416\n",
      "F1 Score: 0.9688581314878892\n",
      "Confusion Matrix:\n",
      "[[966   0]\n",
      " [  9 140]]\n"
     ]
    }
   ],
   "source": [
    "# 建立Naive Bayes classifier\n",
    "model = MultinomialNB()\n",
    "model.fit(X_train_vec, y_train)\n",
    "\n",
    "# 預測\n",
    "y_pred = model.predict(X_test_vec)\n",
    "\n",
    "# 計算評估指標\n",
    "accuracy = accuracy_score(y_test, y_pred)\n",
    "precision = precision_score(y_test, y_pred)\n",
    "recall = recall_score(y_test, y_pred)\n",
    "f1 = f1_score(y_test, y_pred)\n",
    "conf_matrix = confusion_matrix(y_test, y_pred)\n",
    "\n",
    "print(f'Accuracy: {accuracy}')\n",
    "print(f'Precision: {precision}')\n",
    "print(f'Recall: {recall}')\n",
    "print(f'F1 Score: {f1}')\n",
    "print('Confusion Matrix:')\n",
    "print(conf_matrix)\n"
   ]
  },
  {
   "cell_type": "markdown",
   "metadata": {},
   "source": [
    "### SVM分類器"
   ]
  },
  {
   "cell_type": "code",
   "execution_count": 29,
   "metadata": {},
   "outputs": [
    {
     "name": "stdout",
     "output_type": "stream",
     "text": [
      "SVM Accuracy: 0.989237668161435\n",
      "SVM Precision: 1.0\n",
      "SVM Recall: 0.9194630872483222\n",
      "SVM F1 Score: 0.958041958041958\n",
      "Confusion Matrix:\n",
      "[[966   0]\n",
      " [ 12 137]]\n"
     ]
    }
   ],
   "source": [
    "from sklearn.svm import SVC\n",
    "\n",
    "# 建立SVM模型\n",
    "model_svm = SVC(kernel='linear')\n",
    "model_svm.fit(X_train_vec, y_train)\n",
    "\n",
    "# 預測\n",
    "y_pred_svm = model_svm.predict(X_test_vec)\n",
    "\n",
    "# 計算評估指標\n",
    "accuracy = accuracy_score(y_test, y_pred_svm)\n",
    "precision = precision_score(y_test, y_pred_svm)\n",
    "recall = recall_score(y_test, y_pred_svm)\n",
    "f1 = f1_score(y_test, y_pred_svm)\n",
    "conf_matrix = confusion_matrix(y_test, y_pred_svm)\n",
    "\n",
    "print(f'SVM Accuracy: {accuracy}')\n",
    "print(f'SVM Precision: {precision}')\n",
    "print(f'SVM Recall: {recall}')\n",
    "print(f'SVM F1 Score: {f1}')\n",
    "print('Confusion Matrix:')\n",
    "print(conf_matrix)\n"
   ]
  },
  {
   "cell_type": "markdown",
   "metadata": {},
   "source": [
    "### 隨機森林"
   ]
  },
  {
   "cell_type": "code",
   "execution_count": 31,
   "metadata": {},
   "outputs": [
    {
     "name": "stdout",
     "output_type": "stream",
     "text": [
      "Random Forest Accuracy: 0.9847533632286996\n",
      "Random Forest Precision: 1.0\n",
      "Random Forest Recall: 0.8859060402684564\n",
      "Random Forest F1 Score: 0.9395017793594307\n",
      "Confusion Matrix:\n",
      "[[966   0]\n",
      " [ 17 132]]\n"
     ]
    }
   ],
   "source": [
    "from sklearn.ensemble import RandomForestClassifier\n",
    "\n",
    "# 建立隨機森林模型\n",
    "model_rf = RandomForestClassifier(n_estimators=100, random_state=42)\n",
    "model_rf.fit(X_train_vec, y_train)\n",
    "\n",
    "# 預測\n",
    "y_pred_rf = model_rf.predict(X_test_vec)\n",
    "\n",
    "# 計算評估指標\n",
    "accuracy = accuracy_score(y_test, y_pred_rf)\n",
    "precision = precision_score(y_test, y_pred_rf)\n",
    "recall = recall_score(y_test, y_pred_rf)\n",
    "f1 = f1_score(y_test, y_pred_rf)\n",
    "conf_matrix = confusion_matrix(y_test, y_pred_rf)\n",
    "\n",
    "print(f'Random Forest Accuracy: {accuracy}')\n",
    "print(f'Random Forest Precision: {precision}')\n",
    "print(f'Random Forest Recall: {recall}')\n",
    "print(f'Random Forest F1 Score: {f1}')\n",
    "print('Confusion Matrix:')\n",
    "print(conf_matrix)\n"
   ]
  },
  {
   "cell_type": "markdown",
   "metadata": {},
   "source": [
    "### Logistic回歸"
   ]
  },
  {
   "cell_type": "code",
   "execution_count": 33,
   "metadata": {},
   "outputs": [
    {
     "name": "stdout",
     "output_type": "stream",
     "text": [
      "Logistic Regression Accuracy: 0.9883408071748879\n",
      "Logistic Regression Precision: 1.0\n",
      "Logistic Regression Recall: 0.912751677852349\n",
      "Logistic Regression F1 Score: 0.9543859649122807\n",
      "Confusion Matrix:\n",
      "[[966   0]\n",
      " [ 13 136]]\n"
     ]
    }
   ],
   "source": [
    "\n",
    "from sklearn.linear_model import LogisticRegression\n",
    "# 建立邏輯回歸模型\n",
    "model_lr = LogisticRegression()\n",
    "model_lr.fit(X_train_vec, y_train)\n",
    "\n",
    "# 預測\n",
    "y_pred_lr = model_lr.predict(X_test_vec)\n",
    "\n",
    "# 計算評估指標\n",
    "accuracy = accuracy_score(y_test, y_pred_lr)\n",
    "precision = precision_score(y_test, y_pred_lr)\n",
    "recall = recall_score(y_test, y_pred_lr)\n",
    "f1 = f1_score(y_test, y_pred_lr)\n",
    "conf_matrix = confusion_matrix(y_test, y_pred_lr)\n",
    "\n",
    "print(f'Logistic Regression Accuracy: {accuracy}')\n",
    "print(f'Logistic Regression Precision: {precision}')\n",
    "print(f'Logistic Regression Recall: {recall}')\n",
    "print(f'Logistic Regression F1 Score: {f1}')\n",
    "print('Confusion Matrix:')\n",
    "print(conf_matrix)"
   ]
  },
  {
   "cell_type": "code",
   "execution_count": null,
   "metadata": {},
   "outputs": [],
   "source": []
  }
 ],
 "metadata": {
  "kernelspec": {
   "display_name": "DeepLearn",
   "language": "python",
   "name": "python3"
  },
  "language_info": {
   "codemirror_mode": {
    "name": "ipython",
    "version": 3
   },
   "file_extension": ".py",
   "mimetype": "text/x-python",
   "name": "python",
   "nbconvert_exporter": "python",
   "pygments_lexer": "ipython3",
   "version": "3.8.17"
  }
 },
 "nbformat": 4,
 "nbformat_minor": 2
}
